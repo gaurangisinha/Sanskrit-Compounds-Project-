{
 "cells": [
  {
   "cell_type": "code",
   "execution_count": 1,
   "metadata": {},
   "outputs": [
    {
     "name": "stdout",
     "output_type": "stream",
     "text": [
      "dump.txt  \u001b[0m\u001b[01;34mSHMT_CORPUS_FINAL\u001b[0m/\r\n"
     ]
    }
   ],
   "source": [
    "ls ../Data"
   ]
  },
  {
   "cell_type": "code",
   "execution_count": 2,
   "metadata": {},
   "outputs": [
    {
     "name": "stdout",
     "output_type": "stream",
     "text": [
      "Requirement already satisfied: indic-transliteration in /home/masinha/anaconda3/lib/python3.8/site-packages (2.3.37)\n",
      "Requirement already satisfied: regex in /home/masinha/anaconda3/lib/python3.8/site-packages (from indic-transliteration) (2020.6.8)\n",
      "Requirement already satisfied: backports.functools-lru-cache in /home/masinha/anaconda3/lib/python3.8/site-packages (from indic-transliteration) (1.6.1)\n",
      "Requirement already satisfied: typer in /home/masinha/anaconda3/lib/python3.8/site-packages (from indic-transliteration) (0.6.1)\n",
      "Requirement already satisfied: roman in /home/masinha/anaconda3/lib/python3.8/site-packages (from indic-transliteration) (3.3)\n",
      "Requirement already satisfied: toml in /home/masinha/anaconda3/lib/python3.8/site-packages (from indic-transliteration) (0.10.1)\n",
      "Requirement already satisfied: click<9.0.0,>=7.1.1 in /home/masinha/anaconda3/lib/python3.8/site-packages (from typer->indic-transliteration) (7.1.2)\n",
      "Note: you may need to restart the kernel to use updated packages.\n"
     ]
    }
   ],
   "source": [
    "pip install indic-transliteration"
   ]
  },
  {
   "cell_type": "code",
   "execution_count": 3,
   "metadata": {},
   "outputs": [],
   "source": [
    "import re\n",
    "from indic_transliteration import sanscript\n",
    "from indic_transliteration.sanscript import SchemeMap, SCHEMES, transliterate\n",
    "def processing(text):\n",
    "    \"\"\"\n",
    "    Given: \"<<औत्सुक्य-अरति-संमोह>_Di-करम्>_U+ <इन्द्रिय-नाशनम्>_T6|\"\n",
    "    Extracted: [('औत्सुक्य-अरति-संमोह', '_Di-करम्')]\n",
    "    \n",
    "    \n",
    "    \"\"\"\n",
    "    print(\"Original Text: \",text)\n",
    "    \n",
    "    # Remove lines\n",
    "    remove_txt = re.findall('\\|\\|(.*?)\\|\\|',text)[0]\n",
    "    text = text.replace(remove_txt, '')[:-4]\n",
    "    \n",
    "    # Replce '+' with whitespace\n",
    "    text=text.replace('+', ' ')\n",
    "    print(\"Output: \", text)\n",
    "    ex = re.findall('\\<\\<(.*?)\\>(.*?)\\>',text)\n",
    "    if ex:\n",
    "        print(\"Decision: Interested -> \", ex)\n",
    "    else:\n",
    "        print(\"Decision: Not Interested\")"
   ]
  },
  {
   "cell_type": "code",
   "execution_count": 4,
   "metadata": {},
   "outputs": [
    {
     "name": "stdout",
     "output_type": "stream",
     "text": [
      "Original Text:  paraM <<dvi-kAla>_Tds-pAyl>_U syAt+ahnaH kAlezu budDimAn||36.2||\n",
      "Output:  paraM <<dvi-kAla>_Tds-pAyl>_U syAt ahnaH kAlezu budDimAn\n",
      "Decision: Interested ->  [('dvi-kAla', '_Tds-pAyl')]\n"
     ]
    }
   ],
   "source": [
    "processing('paraM <<dvi-kAla>_Tds-pAyl>_U syAt+ahnaH kAlezu budDimAn||36.2||')"
   ]
  },
  {
   "cell_type": "code",
   "execution_count": 5,
   "metadata": {},
   "outputs": [
    {
     "name": "stdout",
     "output_type": "stream",
     "text": [
      "Original Text:  paraM <dvi-kAla>_U syAt+ahnaH kAlezu budDimAn||46.2||\n",
      "Output:  paraM <dvi-kAla>_U syAt ahnaH kAlezu budDimAn\n",
      "Decision: Not Interested\n"
     ]
    }
   ],
   "source": [
    "processing('paraM <dvi-kAla>_U syAt+ahnaH kAlezu budDimAn||46.2||')"
   ]
  },
  {
   "cell_type": "code",
   "execution_count": 6,
   "metadata": {},
   "outputs": [
    {
     "name": "stdout",
     "output_type": "stream",
     "text": [
      "Original Text:  SaNKO <marma-trayaM>_K2 kaRWaH+ raktaM <Sukra-ojasI>_Di gudam|| 3 ||\n",
      "Output:  SaNKO <marma-trayaM>_K2 kaRWaH  raktaM <Sukra-ojasI>_Di gudam\n",
      "Decision: Not Interested\n"
     ]
    }
   ],
   "source": [
    "processing('SaNKO <marma-trayaM>_K2 kaRWaH+ raktaM <Sukra-ojasI>_Di gudam|| 3 ||')"
   ]
  },
  {
   "cell_type": "code",
   "execution_count": 7,
   "metadata": {},
   "outputs": [
    {
     "name": "stdout",
     "output_type": "stream",
     "text": [
      "Original Text:  na ca+asya rogAH sahasA praBavanti+<<UrDva-jatru>_T5?-jAH>_U||62||\n",
      "Output:  na ca asya rogAH sahasA praBavanti <<UrDva-jatru>_T5?-jAH>_U\n",
      "Decision: Interested ->  [('UrDva-jatru', '_T5?-jAH')]\n"
     ]
    }
   ],
   "source": [
    "processing('na ca+asya rogAH sahasA praBavanti+<<UrDva-jatru>_T5?-jAH>_U||62||')"
   ]
  },
  {
   "cell_type": "code",
   "execution_count": 8,
   "metadata": {},
   "outputs": [
    {
     "name": "stdout",
     "output_type": "stream",
     "text": [
      "Original Text:  <<vasA-Gfta-maDu>_Di-ucCizwEH>_T3+ <yukti-yuktEH>_T3+<vara-OzaDEH>_K1||25.2||\n",
      "Output:  <<vasA-Gfta-maDu>_Di-ucCizwEH>_T3  <yukti-yuktEH>_T3 <vara-OzaDEH>_K1\n",
      "Decision: Interested ->  [('vasA-Gfta-maDu', '_Di-ucCizwEH')]\n"
     ]
    }
   ],
   "source": [
    "processing('<<vasA-Gfta-maDu>_Di-ucCizwEH>_T3+ <yukti-yuktEH>_T3+<vara-OzaDEH>_K1||25.2||')"
   ]
  },
  {
   "cell_type": "code",
   "execution_count": 9,
   "metadata": {},
   "outputs": [
    {
     "name": "stdout",
     "output_type": "stream",
     "text": [
      "Original Text:  <prayoga-pAne>_K1 tasya+azwO kAlAH saMparikIrtitAH||33.2||\n",
      "Output:  <prayoga-pAne>_K1 tasya azwO kAlAH saMparikIrtitAH\n",
      "Decision: Not Interested\n"
     ]
    }
   ],
   "source": [
    "processing('<prayoga-pAne>_K1 tasya+azwO kAlAH saMparikIrtitAH||33.2||')"
   ]
  },
  {
   "cell_type": "code",
   "execution_count": 10,
   "metadata": {},
   "outputs": [
    {
     "name": "stdout",
     "output_type": "stream",
     "text": [
      "Original Text:  SItaM tu raktapitte syAt+<Slezma-pitte>_Di virUkzaRam||40||\n",
      "Output:  SItaM tu raktapitte syAt <Slezma-pitte>_Di virUkzaRam\n",
      "Decision: Not Interested\n"
     ]
    }
   ],
   "source": [
    "processing('SItaM tu raktapitte syAt+<Slezma-pitte>_Di virUkzaRam||40||')"
   ]
  },
  {
   "cell_type": "code",
   "execution_count": 11,
   "metadata": {},
   "outputs": [
    {
     "name": "stdout",
     "output_type": "stream",
     "text": [
      "Original Text:  nagarI nagarasya+eva raTasya+eva raTI yaTA| <sva-SarIrasya>_T6 meDAvI kftI+ezu+avahitaH+ Bavet||103||\n",
      "Output:  nagarI nagarasya eva raTasya eva raTI yaTA| <sva-SarIrasya>_T6 meDAvI kftI ezu avahitaH  Bavet\n",
      "Decision: Not Interested\n"
     ]
    }
   ],
   "source": [
    "processing('nagarI nagarasya+eva raTasya+eva raTI yaTA| <sva-SarIrasya>_T6 meDAvI kftI+ezu+avahitaH+ Bavet||103||')"
   ]
  },
  {
   "cell_type": "code",
   "execution_count": 12,
   "metadata": {},
   "outputs": [
    {
     "name": "stdout",
     "output_type": "stream",
     "text": [
      "Original Text:  SOce saMharaRe lomnAM <<pAdatra-Catra>_Di-DAraRe>_T6| guRAH+ mAtrASitIye+asmin+taTA+uktAH+ <daRqa-DAraRe>_T6||111||\n",
      "Output:  SOce saMharaRe lomnAM <<pAdatra-Catra>_Di-DAraRe>_T6| guRAH  mAtrASitIye asmin taTA uktAH  <daRqa-DAraRe>_T6\n",
      "Decision: Interested ->  [('pAdatra-Catra', '_Di-DAraRe')]\n"
     ]
    }
   ],
   "source": [
    "processing('SOce saMharaRe lomnAM <<pAdatra-Catra>_Di-DAraRe>_T6| guRAH+ mAtrASitIye+asmin+taTA+uktAH+ <daRqa-DAraRe>_T6||111||')"
   ]
  },
  {
   "cell_type": "code",
   "execution_count": 13,
   "metadata": {},
   "outputs": [
    {
     "name": "stdout",
     "output_type": "stream",
     "text": [
      "Original Text:  muKAni tu Kalu+AgantoH+<naKa-<daSana-patana>_T6-aBicAra-aBiSApa-aBizaNga-aBiGAta-vyaDa-banDana-vezwana-pIqana-rajju-dahana-Sastra-aSani-<BUta-upasarga>_T6>_Di-AdIni, nijasya tu muKaM <vAta-pitta-SlezmaRAM>_T6 vEzamyam|| 4 ||\n",
      "Output:  muKAni tu Kalu AgantoH <naKa-<daSana-patana>_T6-aBicAra-aBiSApa-aBizaNga-aBiGAta-vyaDa-banDana-vezwana-pIqana-rajju-dahana-Sastra-aSani-<BUta-upasarga>_T6>_Di-AdIni, nijasya tu muKaM <vAta-pitta-SlezmaRAM>_T6 vEzamyam\n",
      "Decision: Not Interested\n"
     ]
    }
   ],
   "source": [
    "processing('muKAni tu Kalu+AgantoH+<naKa-<daSana-patana>_T6-aBicAra-aBiSApa-aBizaNga-aBiGAta-vyaDa-banDana-vezwana-pIqana-rajju-dahana-Sastra-aSani-<BUta-upasarga>_T6>_Di-AdIni, nijasya tu muKaM <vAta-pitta-SlezmaRAM>_T6 vEzamyam|| 4 ||')"
   ]
  },
  {
   "cell_type": "code",
   "execution_count": 15,
   "metadata": {},
   "outputs": [
    {
     "name": "stdout",
     "output_type": "stream",
     "text": [
      "Original Text:  <DUma-yogyaH>_T4 pibet+doze <<SiraH-GrARa-akzi>_Di-saMSraye>_Bv||46.2||\n",
      "Output:  <DUma-yogyaH>_T4 pibet doze <<SiraH-GrARa-akzi>_Di-saMSraye>_Bv\n",
      "Decision: Interested ->  [('SiraH-GrARa-akzi', '_Di-saMSraye')]\n"
     ]
    }
   ],
   "source": [
    "processing('<DUma-yogyaH>_T4 pibet+doze <<SiraH-GrARa-akzi>_Di-saMSraye>_Bv||46.2||')"
   ]
  },
  {
   "cell_type": "code",
   "execution_count": 16,
   "metadata": {},
   "outputs": [
    {
     "name": "stdout",
     "output_type": "stream",
     "text": [
      "Original Text:  <<fju-<aNga-cakzuH>_Di->_Bs6+tat+cetAH su+upavizwaH+triparyayam||48.2||\n",
      "Output:  <<fju-<aNga-cakzuH>_Di->_Bs6 tat cetAH su upavizwaH triparyayam\n",
      "Decision: Interested ->  [('fju-<aNga-cakzuH', '_Di-')]\n"
     ]
    }
   ],
   "source": [
    "processing('<<fju-<aNga-cakzuH>_Di->_Bs6+tat+cetAH su+upavizwaH+triparyayam||48.2||')"
   ]
  },
  {
   "cell_type": "code",
   "execution_count": 17,
   "metadata": {},
   "outputs": [
    {
     "name": "stdout",
     "output_type": "stream",
     "text": [
      "Original Text:  caturviMSatikaM netraM svANgulIBiH+virecane||49.2||\n",
      "Output:  caturviMSatikaM netraM svANgulIBiH virecane\n",
      "Decision: Not Interested\n"
     ]
    }
   ],
   "source": [
    "processing('caturviMSatikaM netraM svANgulIBiH+virecane||49.2||')"
   ]
  },
  {
   "cell_type": "code",
   "execution_count": 18,
   "metadata": {},
   "outputs": [
    {
     "name": "stdout",
     "output_type": "stream",
     "text": [
      "Original Text:  <bADiryam-AnDya-mUkatvaM>_Ds raktapittaM SiroBramam||38.2||\n",
      "Output:  <bADiryam-AnDya-mUkatvaM>_Ds raktapittaM SiroBramam\n",
      "Decision: Not Interested\n"
     ]
    }
   ],
   "source": [
    "processing('<bADiryam-AnDya-mUkatvaM>_Ds raktapittaM SiroBramam||38.2||')"
   ]
  },
  {
   "cell_type": "code",
   "execution_count": 20,
   "metadata": {},
   "outputs": [
    {
     "name": "stdout",
     "output_type": "stream",
     "text": [
      "Original Text:  hanvoH+balaM <svara-balaM>_T6 <vadana-upacayaH>_T6 paraH|syAt paraM ca <rasa-jYAnam>_T6+anne ca ruciH+uttamA||78||\n",
      "Output:  hanvoH balaM <svara-balaM>_T6 <vadana-upacayaH>_T6 paraH|syAt paraM ca <rasa-jYAnam>_T6 anne ca ruciH uttamA\n",
      "Decision: Not Interested\n"
     ]
    }
   ],
   "source": [
    "processing('hanvoH+balaM <svara-balaM>_T6 <vadana-upacayaH>_T6 paraH|syAt paraM ca <rasa-jYAnam>_T6+anne ca ruciH+uttamA||78||')"
   ]
  },
  {
   "cell_type": "code",
   "execution_count": 21,
   "metadata": {},
   "outputs": [
    {
     "name": "stdout",
     "output_type": "stream",
     "text": [
      "Original Text:  na SUlyante na ca+amlena hfzyante Bakzayanti ca|parAn+api KarAn BakzyAn+<<tEla-gaRqUza>_T3-DAraRAt>_T6||80||\n",
      "Output:  na SUlyante na ca amlena hfzyante Bakzayanti ca|parAn api KarAn BakzyAn <<tEla-gaRqUza>_T3-DAraRAt>_T6\n",
      "Decision: Interested ->  [('tEla-gaRqUza', '_T3-DAraRAt')]\n"
     ]
    }
   ],
   "source": [
    "processing('na SUlyante na ca+amlena hfzyante Bakzayanti ca|parAn+api KarAn BakzyAn+<<tEla-gaRqUza>_T3-DAraRAt>_T6||80||')"
   ]
  },
  {
   "cell_type": "code",
   "execution_count": 22,
   "metadata": {},
   "outputs": [
    {
     "name": "stdout",
     "output_type": "stream",
     "text": [
      "Original Text:  na ca+<aBiGAta-aBihataM>_T3 gAtram+<aByaNga-sevinaH>_U|vikAraM Bajate+atyarTaM <bala-karmaRi>_T3 vA kvacit||88||\n",
      "Output:  na ca <aBiGAta-aBihataM>_T3 gAtram <aByaNga-sevinaH>_U|vikAraM Bajate atyarTaM <bala-karmaRi>_T3 vA kvacit\n",
      "Decision: Not Interested\n"
     ]
    }
   ],
   "source": [
    "processing('na ca+<aBiGAta-aBihataM>_T3 gAtram+<aByaNga-sevinaH>_U|vikAraM Bajate+atyarTaM <bala-karmaRi>_T3 vA kvacit||88||')"
   ]
  },
  {
   "cell_type": "code",
   "execution_count": 23,
   "metadata": {},
   "outputs": [
    {
     "name": "stdout",
     "output_type": "stream",
     "text": [
      "Original Text:  vfzyaM sOganDyam+AyuzyaM kAmyaM <<puzwi-bala>_Di-pradam>_U|sOmanasyam+<a<lakzmI-GnaM>_U->_Tn <ganDamAlya-nizevaRam>_T6||96||\n",
      "Output:  vfzyaM sOganDyam AyuzyaM kAmyaM <<puzwi-bala>_Di-pradam>_U|sOmanasyam <a<lakzmI-GnaM>_U->_Tn <ganDamAlya-nizevaRam>_T6\n",
      "Decision: Interested ->  [('puzwi-bala', '_Di-pradam')]\n"
     ]
    }
   ],
   "source": [
    "processing('vfzyaM sOganDyam+AyuzyaM kAmyaM <<puzwi-bala>_Di-pradam>_U|sOmanasyam+<a<lakzmI-GnaM>_U->_Tn <ganDamAlya-nizevaRam>_T6||96||')"
   ]
  },
  {
   "cell_type": "code",
   "execution_count": 24,
   "metadata": {},
   "outputs": [
    {
     "name": "stdout",
     "output_type": "stream",
     "text": [
      "Original Text:  nagarI nagarasya+eva raTasya+eva raTI yaTA|<sva-SarIrasya>_T6 meDAvI kftI+ezu+avahitaH+ Bavet||103||\n",
      "Output:  nagarI nagarasya eva raTasya eva raTI yaTA|<sva-SarIrasya>_T6 meDAvI kftI ezu avahitaH  Bavet\n",
      "Decision: Not Interested\n"
     ]
    }
   ],
   "source": [
    "processing('nagarI nagarasya+eva raTasya+eva raTI yaTA|<sva-SarIrasya>_T6 meDAvI kftI+ezu+avahitaH+ Bavet||103||')"
   ]
  },
  {
   "cell_type": "code",
   "execution_count": 25,
   "metadata": {},
   "outputs": [
    {
     "name": "stdout",
     "output_type": "stream",
     "text": [
      "Original Text:  ataH+ UrDvaM SarIrasya kAryam+<<akzi-aYjana>_T6-Adi>_Bs6^kam|<svasTa-vfttim>_T6+aBipretya guRataH saMpravakzyate||14||\n",
      "Output:  ataH  UrDvaM SarIrasya kAryam <<akzi-aYjana>_T6-Adi>_Bs6^kam|<svasTa-vfttim>_T6 aBipretya guRataH saMpravakzyate\n",
      "Decision: Interested ->  [('akzi-aYjana', '_T6-Adi')]\n"
     ]
    }
   ],
   "source": [
    "processing('ataH+ UrDvaM SarIrasya kAryam+<<akzi-aYjana>_T6-Adi>_Bs6^kam|<svasTa-vfttim>_T6+aBipretya guRataH saMpravakzyate||14||')"
   ]
  },
  {
   "cell_type": "code",
   "execution_count": null,
   "metadata": {},
   "outputs": [],
   "source": []
  }
 ],
 "metadata": {
  "kernelspec": {
   "display_name": "Python 3 (ipykernel)",
   "language": "python",
   "name": "python3"
  },
  "language_info": {
   "codemirror_mode": {
    "name": "ipython",
    "version": 3
   },
   "file_extension": ".py",
   "mimetype": "text/x-python",
   "name": "python",
   "nbconvert_exporter": "python",
   "pygments_lexer": "ipython3",
   "version": "3.8.3"
  }
 },
 "nbformat": 4,
 "nbformat_minor": 4
}
