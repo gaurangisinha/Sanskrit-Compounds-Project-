{
 "cells": [
  {
   "cell_type": "code",
   "execution_count": 1,
   "metadata": {},
   "outputs": [
    {
     "name": "stdout",
     "output_type": "stream",
     "text": [
      "dump.txt  \u001b[0m\u001b[01;34mSHMT_CORPUS_FINAL\u001b[0m/\r\n"
     ]
    }
   ],
   "source": [
    "ls ../Data"
   ]
  },
  {
   "cell_type": "code",
   "execution_count": 2,
   "metadata": {},
   "outputs": [
    {
     "name": "stdout",
     "output_type": "stream",
     "text": [
      "Collecting indic-transliteration\n",
      "  Downloading indic_transliteration-2.3.37-py3-none-any.whl (137 kB)\n",
      "\u001b[2K     \u001b[90m━━━━━━━━━━━━━━━━━━━━━━━━━━━━━━━━━━━━━\u001b[0m \u001b[32m137.5/137.5 kB\u001b[0m \u001b[31m820.3 kB/s\u001b[0m eta \u001b[36m0:00:00\u001b[0ma \u001b[36m0:00:01\u001b[0m\n",
      "\u001b[?25hRequirement already satisfied: toml in /home/masinha/anaconda3/lib/python3.8/site-packages (from indic-transliteration) (0.10.1)\n",
      "Requirement already satisfied: backports.functools-lru-cache in /home/masinha/anaconda3/lib/python3.8/site-packages (from indic-transliteration) (1.6.1)\n",
      "Collecting roman\n",
      "  Downloading roman-3.3-py2.py3-none-any.whl (3.9 kB)\n",
      "Requirement already satisfied: regex in /home/masinha/anaconda3/lib/python3.8/site-packages (from indic-transliteration) (2020.6.8)\n",
      "Collecting typer\n",
      "  Downloading typer-0.6.1-py3-none-any.whl (38 kB)\n",
      "Requirement already satisfied: click<9.0.0,>=7.1.1 in /home/masinha/anaconda3/lib/python3.8/site-packages (from typer->indic-transliteration) (7.1.2)\n",
      "Installing collected packages: typer, roman, indic-transliteration\n",
      "Successfully installed indic-transliteration-2.3.37 roman-3.3 typer-0.6.1\n",
      "Note: you may need to restart the kernel to use updated packages.\n"
     ]
    }
   ],
   "source": [
    "pip install indic-transliteration"
   ]
  },
  {
   "cell_type": "code",
   "execution_count": 4,
   "metadata": {},
   "outputs": [],
   "source": [
    "import re\n",
    "from indic_transliteration import sanscript\n",
    "from indic_transliteration.sanscript import SchemeMap, SCHEMES, transliterate\n",
    "def processing(text):\n",
    "    \"\"\"\n",
    "    Given: \"<<औत्सुक्य-अरति-संमोह>_Di-करम्>_U+ <इन्द्रिय-नाशनम्>_T6|\"\n",
    "    Extracted: [('औत्सुक्य-अरति-संमोह', '_Di-करम्')]\n",
    "    \n",
    "    \n",
    "    \"\"\"\n",
    "    print(\"Original Text: \",text)\n",
    "    \n",
    "    # Remove lines\n",
    "    remove_txt = re.findall('\\|\\|(.*?)\\|\\|',text)[0]\n",
    "    text = text.replace(remove_txt, '')[:-4]\n",
    "    \n",
    "    # Replce '+' with whitespace\n",
    "    text=text.replace('+', ' ')\n",
    "    print(\"Output: \", text)\n",
    "    ex = re.findall('\\<\\<(.*?)\\>(.*?)\\>',text)\n",
    "    if ex:\n",
    "        print(\"Decision: Interested -> \", ex)\n",
    "    else:\n",
    "        print(\"Decision: Not Interested\")"
   ]
  },
  {
   "cell_type": "code",
   "execution_count": 5,
   "metadata": {},
   "outputs": [
    {
     "name": "stdout",
     "output_type": "stream",
     "text": [
      "Original Text:  paraM <<dvi-kAla>_Tds-pAyl>_U syAt+ahnaH kAlezu budDimAn||36.2||\n",
      "Output:  paraM <<dvi-kAla>_Tds-pAyl>_U syAt ahnaH kAlezu budDimAn\n",
      "Decision: Interested ->  [('dvi-kAla', '_Tds-pAyl')]\n"
     ]
    }
   ],
   "source": [
    "processing('paraM <<dvi-kAla>_Tds-pAyl>_U syAt+ahnaH kAlezu budDimAn||36.2||')"
   ]
  },
  {
   "cell_type": "code",
   "execution_count": 6,
   "metadata": {},
   "outputs": [
    {
     "name": "stdout",
     "output_type": "stream",
     "text": [
      "Original Text:  paraM <dvi-kAla>_U syAt+ahnaH kAlezu budDimAn||46.2||\n",
      "Output:  paraM <dvi-kAla>_U syAt ahnaH kAlezu budDimAn\n",
      "Decision: Not Interested\n"
     ]
    }
   ],
   "source": [
    "processing('paraM <dvi-kAla>_U syAt+ahnaH kAlezu budDimAn||46.2||')"
   ]
  },
  {
   "cell_type": "code",
   "execution_count": 7,
   "metadata": {},
   "outputs": [
    {
     "name": "stdout",
     "output_type": "stream",
     "text": [
      "Original Text:  SaNKO <marma-trayaM>_K2 kaRWaH+ raktaM <Sukra-ojasI>_Di gudam|| 3 ||\n",
      "Output:  SaNKO <marma-trayaM>_K2 kaRWaH  raktaM <Sukra-ojasI>_Di gudam\n",
      "Decision: Not Interested\n"
     ]
    }
   ],
   "source": [
    "processing('SaNKO <marma-trayaM>_K2 kaRWaH+ raktaM <Sukra-ojasI>_Di gudam|| 3 ||')"
   ]
  },
  {
   "cell_type": "code",
   "execution_count": 8,
   "metadata": {},
   "outputs": [
    {
     "name": "stdout",
     "output_type": "stream",
     "text": [
      "Original Text:  na ca+asya rogAH sahasA praBavanti+<<UrDva-jatru>_T5?-jAH>_U||62||\n",
      "Output:  na ca asya rogAH sahasA praBavanti <<UrDva-jatru>_T5?-jAH>_U\n",
      "Decision: Interested ->  [('UrDva-jatru', '_T5?-jAH')]\n"
     ]
    }
   ],
   "source": [
    "processing('na ca+asya rogAH sahasA praBavanti+<<UrDva-jatru>_T5?-jAH>_U||62||')"
   ]
  },
  {
   "cell_type": "code",
   "execution_count": null,
   "metadata": {},
   "outputs": [],
   "source": []
  }
 ],
 "metadata": {
  "kernelspec": {
   "display_name": "Python 3 (ipykernel)",
   "language": "python",
   "name": "python3"
  },
  "language_info": {
   "codemirror_mode": {
    "name": "ipython",
    "version": 3
   },
   "file_extension": ".py",
   "mimetype": "text/x-python",
   "name": "python",
   "nbconvert_exporter": "python",
   "pygments_lexer": "ipython3",
   "version": "3.8.3"
  }
 },
 "nbformat": 4,
 "nbformat_minor": 4
}
